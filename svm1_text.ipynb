{
  "nbformat": 4,
  "nbformat_minor": 0,
  "metadata": {
    "colab": {
      "provenance": [],
      "include_colab_link": true
    },
    "kernelspec": {
      "name": "python3",
      "display_name": "Python 3"
    },
    "language_info": {
      "name": "python"
    }
  },
  "cells": [
    {
      "cell_type": "markdown",
      "metadata": {
        "id": "view-in-github",
        "colab_type": "text"
      },
      "source": [
        "<a href=\"https://colab.research.google.com/github/bjpark-forest/2023-1-Intro_ML/blob/main/svm1_text.ipynb\" target=\"_parent\"><img src=\"https://colab.research.google.com/assets/colab-badge.svg\" alt=\"Open In Colab\"/></a>"
      ]
    },
    {
      "cell_type": "code",
      "source": [
        "import numpy as np\n",
        "import matplotlib.pyplot as plt\n",
        "from sklearn import svm\n",
        "\n",
        "\n",
        "# 데이터 생성\n",
        "np.random.seed(55)\n",
        "X = np.r_[np.random.randn(10,2) - [2,2], np.random.randn(10,2) + [2,2]]  # 점을 15개 생성\n",
        "y = np.array([-1] * 10 + [1] * 10)\n",
        "\n",
        "# 데이터 시각화\n",
        "plt.scatter(X[:,0], X[:,1], c=y, cmap='coolwarm')\n",
        "plt.show()"
      ],
      "metadata": {
        "id": "Ptpuy1AQSpnP"
      },
      "execution_count": null,
      "outputs": []
    },
    {
      "cell_type": "code",
      "source": [
        "# 유저 입력 점 추가\n",
        "new_red_point = np.zeros(2, dtype=int)\n",
        "new_red_point[:] = list(map(int, input(\"새로운 빨간점의 x, y 좌표 정수 2개를 입력하세요. (예: 1,2): \").split(',')))\n",
        "\n",
        "X = np.concatenate((X, [new_red_point]), axis=0)\n",
        "y = np.concatenate((y, [1]))\n",
        "\n",
        "# 데이터 시각화\n",
        "plt.scatter(X[:,0], X[:,1], c=y, cmap='coolwarm')\n",
        "plt.show()\n",
        "\n",
        "\n"
      ],
      "metadata": {
        "id": "SgKzLddrmQBF"
      },
      "execution_count": null,
      "outputs": []
    },
    {
      "cell_type": "code",
      "source": [
        "# Soft Margin SVM 모델 훈련\n",
        "clf = svm.SVC(kernel='linear', C=1)  #C=.1, 1, 10 시도\n",
        "clf.fit(X, y)\n",
        "\n",
        "# 예측\n",
        "y_pred = clf.predict(X)\n",
        "\n",
        "# 서포트 벡터 및 중요도 추출\n",
        "support_vectors = clf.support_vectors_\n",
        "dual_coef = clf.dual_coef_\n"
      ],
      "metadata": {
        "id": "SibSnpa7VfrX"
      },
      "execution_count": null,
      "outputs": []
    },
    {
      "cell_type": "code",
      "source": [
        "def plot_decision_boundary_with_margin(clf, X, y):\n",
        "    fig, ax = plt.subplots()\n",
        "    ax.scatter(X[:, 0], X[:, 1], c=y, cmap='coolwarm')\n",
        "\n",
        "    # plot decision boundary\n",
        "    xlim = ax.get_xlim()\n",
        "    ylim = ax.get_ylim()\n",
        "\n",
        "    xx = np.linspace(xlim[0], xlim[1], 30)\n",
        "    yy = np.linspace(ylim[0], ylim[1], 30)\n",
        "    XX, YY = np.meshgrid(xx, yy)\n",
        "    xy = np.vstack([XX.ravel(), YY.ravel()]).T\n",
        "    Z = clf.decision_function(xy).reshape(XX.shape)\n",
        "    ax.contour(XX, YY, Z, colors='k', levels=[-1, 0, 1], alpha=0.5, linestyles=['--', '-', '--'])\n",
        "\n",
        "    # plot support vectors\n",
        "    ax.scatter(clf.support_vectors_[:, 0], clf.support_vectors_[:, 1], s=100, linewidth=1, facecolors='none', edgecolors='k')\n",
        "\n",
        "    # plot margin boundaries and calculate margin\n",
        "    w = clf.coef_[0]\n",
        "    b = clf.intercept_[0]\n",
        "\n",
        "    margin = 1 / np.sqrt(np.sum(w ** 2))\n",
        "    print(\"Margin:\", margin)\n",
        "\n",
        "    plt.xlim(xlim)\n",
        "    plt.ylim(ylim)\n",
        "    plt.show()\n",
        "\n",
        "# SVM 모델 시각화\n",
        "plot_decision_boundary_with_margin(clf, X, y)"
      ],
      "metadata": {
        "id": "7U6swBtDdddf"
      },
      "execution_count": null,
      "outputs": []
    },
    {
      "cell_type": "code",
      "source": [
        "svm_model = clf\n",
        "svm_model.fit(X, y)\n",
        "\n",
        "new_data = np.array([[-3, -4], [3, -3], [-1, 1]])\n",
        "predictions = svm_model.predict(new_data)\n",
        "label_dict = {1: 'red', -1: 'blue'}\n",
        "label_predictions = [label_dict[prediction] for prediction in predictions]\n",
        "print(\"Predictions:\", label_predictions)"
      ],
      "metadata": {
        "id": "oCMliLzVrjGb"
      },
      "execution_count": null,
      "outputs": []
    }
  ]
}