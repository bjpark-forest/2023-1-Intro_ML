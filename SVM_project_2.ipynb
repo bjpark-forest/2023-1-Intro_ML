{
  "nbformat": 4,
  "nbformat_minor": 0,
  "metadata": {
    "colab": {
      "provenance": [],
      "include_colab_link": true
    },
    "kernelspec": {
      "name": "python3",
      "display_name": "Python 3"
    },
    "language_info": {
      "name": "python"
    }
  },
  "cells": [
    {
      "cell_type": "markdown",
      "metadata": {
        "id": "view-in-github",
        "colab_type": "text"
      },
      "source": [
        "<a href=\"https://colab.research.google.com/github/bjpark-forest/2023-1-Intro_ML/blob/main/SVM_project_2.ipynb\" target=\"_parent\"><img src=\"https://colab.research.google.com/assets/colab-badge.svg\" alt=\"Open In Colab\"/></a>"
      ]
    },
    {
      "cell_type": "code",
      "execution_count": null,
      "metadata": {
        "id": "Ffp-NBF-RjAO"
      },
      "outputs": [],
      "source": [
        "import pandas as pd\n",
        "import matplotlib.pyplot as plt\n",
        "import numpy as np\n",
        "import seaborn as sns"
      ]
    },
    {
      "cell_type": "code",
      "source": [
        "import requests\n",
        "import io\n",
        "\n",
        "# 임웅교수님 공유 링크에서 파일 ID 추출\n",
        "file_url = \"https://drive.google.com/file/d/1xKvl88xKXxMOEOoUWkTpXRoaElhN7RYo/view?usp=sharing\"\n",
        "file_id = file_url.split(\"/\")[-2]\n",
        "\n",
        "# 파일 다운로드\n",
        "url = f\"https://drive.google.com/uc?id={file_id}&export=download\"\n",
        "response = requests.get(url)\n",
        "content = response.content\n",
        "\n",
        "# CSV 파일 읽고 정보 확인\n",
        "df = pd.read_csv(io.StringIO(content.decode('utf-8')))\n",
        "df"
      ],
      "metadata": {
        "id": "A2tvRVyPQY6Z"
      },
      "execution_count": null,
      "outputs": []
    },
    {
      "cell_type": "code",
      "source": [
        "df.columns"
      ],
      "metadata": {
        "id": "mpIhAYIinwPU"
      },
      "execution_count": null,
      "outputs": []
    },
    {
      "cell_type": "code",
      "source": [
        "from sklearn.preprocessing import LabelEncoder\n",
        "LE = LabelEncoder()\n",
        "target = LE.fit_transform(df['diagnosis'])\n",
        "\n",
        "df.drop('diagnosis', axis=1, inplace=True)\n",
        "df['diagnosis'] = target\n",
        "df"
      ],
      "metadata": {
        "id": "lpB_EcSxTGwH"
      },
      "execution_count": null,
      "outputs": []
    },
    {
      "cell_type": "code",
      "source": [
        "X=df.drop(['diagnosis','id','Unnamed: 32'], axis=1)\n"
      ],
      "metadata": {
        "id": "I4Z01DQKeqhp"
      },
      "execution_count": null,
      "outputs": []
    },
    {
      "cell_type": "code",
      "source": [
        "X"
      ],
      "metadata": {
        "id": "27_hI0FTkaEm"
      },
      "execution_count": null,
      "outputs": []
    },
    {
      "cell_type": "code",
      "source": [
        "y=df['diagnosis']\n",
        "y"
      ],
      "metadata": {
        "id": "9zgHB2uhfX-K"
      },
      "execution_count": null,
      "outputs": []
    },
    {
      "cell_type": "code",
      "source": [
        "sns.pairplot(df,hue='diagnosis',vars=['texture_mean','area_mean','radius_mean','compactness_mean','perimeter_mean','smoothness_mean'])"
      ],
      "metadata": {
        "id": "eMDcyumcVOIc"
      },
      "execution_count": null,
      "outputs": []
    },
    {
      "cell_type": "code",
      "source": [
        "X1=df[['perimeter_mean','smoothness_mean']]\n"
      ],
      "metadata": {
        "id": "flFx29_8aUWh"
      },
      "execution_count": null,
      "outputs": []
    },
    {
      "cell_type": "code",
      "source": [
        "from sklearn.preprocessing import StandardScaler\n",
        "scaler = StandardScaler()\n",
        "X2 = scaler.fit_transform(X1)\n",
        "X2"
      ],
      "metadata": {
        "id": "9zMWcZhNionD"
      },
      "execution_count": null,
      "outputs": []
    },
    {
      "cell_type": "code",
      "source": [
        "import random\n",
        "\n",
        "from sklearn.model_selection import train_test_split\n",
        "random.seed(10)\n",
        "X_train, X_test, y_train, y_test = train_test_split(X2,y,test_size=0.3)"
      ],
      "metadata": {
        "id": "TQT1B5KAfWPu"
      },
      "execution_count": null,
      "outputs": []
    },
    {
      "cell_type": "code",
      "source": [
        "from sklearn.svm import SVC\n",
        "\n",
        "classifier = SVC(kernel='linear', C=1)\n",
        "classifier.fit(X_train, y_train)\n",
        "y_pred = classifier.predict(X_test)\n",
        "y_pred"
      ],
      "metadata": {
        "id": "BWB9l3ggf_ZU"
      },
      "execution_count": null,
      "outputs": []
    },
    {
      "cell_type": "code",
      "source": [
        "from sklearn.metrics import accuracy_score\n",
        "\n",
        "test_acc = accuracy_score(y_test, y_pred)\n",
        "test_acc"
      ],
      "metadata": {
        "id": "DP3QxtOjc4bC"
      },
      "execution_count": null,
      "outputs": []
    },
    {
      "cell_type": "code",
      "source": [
        "from sklearn.metrics import confusion_matrix\n",
        "compare = confusion_matrix(y_test, y_pred)\n",
        "compare"
      ],
      "metadata": {
        "id": "_lbtitq9c2wT"
      },
      "execution_count": null,
      "outputs": []
    },
    {
      "cell_type": "code",
      "source": [
        "accuracy = (compare[0][0]+compare[1][1])/compare.sum()\n",
        "accuracy"
      ],
      "metadata": {
        "id": "X2X0P0qtc4XY"
      },
      "execution_count": null,
      "outputs": []
    },
    {
      "cell_type": "code",
      "source": [
        "poly_svc = SVC(kernel=\"poly\", C=1, coef0=1, degree=4)\n",
        "poly_svc.fit(X_train, y_train)\n",
        "\n",
        "y_pred = poly_svc.predict(X_test)\n",
        "y_pred"
      ],
      "metadata": {
        "id": "EHe9PyDsMs7N"
      },
      "execution_count": null,
      "outputs": []
    },
    {
      "cell_type": "code",
      "source": [
        "from sklearn.metrics import accuracy_score\n",
        "\n",
        "test_acc = accuracy_score(y_test, y_pred)\n",
        "test_acc"
      ],
      "metadata": {
        "id": "yH4grp1ac4p5"
      },
      "execution_count": null,
      "outputs": []
    },
    {
      "cell_type": "code",
      "source": [
        "rbf_svc = SVC(kernel=\"rbf\", gamma=10, C=1)\n",
        "rbf_svc.fit(X_train, y_train)\n",
        "\n",
        "y_pred = rbf_svc.predict(X_test)\n",
        "y_pred"
      ],
      "metadata": {
        "id": "EbJ0P6aqc4tu"
      },
      "execution_count": null,
      "outputs": []
    },
    {
      "cell_type": "code",
      "source": [
        "from sklearn.metrics import accuracy_score\n",
        "\n",
        "test_acc = accuracy_score(y_test, y_pred)\n",
        "test_acc"
      ],
      "metadata": {
        "id": "nsc-UeEJfp6g"
      },
      "execution_count": null,
      "outputs": []
    },
    {
      "cell_type": "code",
      "source": [
        "from sklearn.model_selection import GridSearchCV"
      ],
      "metadata": {
        "id": "lQGWV8pifp_D"
      },
      "execution_count": null,
      "outputs": []
    },
    {
      "cell_type": "code",
      "source": [
        "params = [\n",
        "    {\"kernel\": [\"linear\"], \"C\": [0.1, 0.5, 1, 5, 10, 30]},\n",
        "    {\"kernel\": [\"poly\"],\"C\": [0.1, 0.5, 1, 5, 10, 30] },\n",
        "    {\"kernel\": [\"rbf\"], \"C\": [0.1, 0.5, 1, 5, 10, 30],\n",
        "                      \"gamma\": [0.01, 0.03, 0.1, 0.3, 1.0, 3.0,10.0,50.0,100.0],},]"
      ],
      "metadata": {
        "id": "dDmKLayhfqCw"
      },
      "execution_count": null,
      "outputs": []
    },
    {
      "cell_type": "code",
      "source": [
        "grid_cv = GridSearchCV(classifier, params, cv=20,n_jobs=-1)\n",
        "random.seed(123)\n",
        "grid_cv.fit(X_train, y_train)\n"
      ],
      "metadata": {
        "id": "KoVxhNGLlPzR"
      },
      "execution_count": null,
      "outputs": []
    },
    {
      "cell_type": "code",
      "source": [
        "print(f\"Highest score of paramter search is: {grid_cv.best_score_:.4f}\")"
      ],
      "metadata": {
        "id": "lpco5vH1lW9g"
      },
      "execution_count": null,
      "outputs": []
    },
    {
      "cell_type": "code",
      "source": [
        "print(\"The parameter of the highest score is as follows\")\n",
        "for key, value in grid_cv.best_params_.items():\n",
        "    print(f\"{key}: {value}\")"
      ],
      "metadata": {
        "id": "OVkkuKLxlaMM"
      },
      "execution_count": null,
      "outputs": []
    },
    {
      "cell_type": "code",
      "source": [
        "import numpy as np\n",
        "from matplotlib.colors import ListedColormap\n",
        "\n",
        "def plot_decision_regions(X, y, classifier, resolution=0.02):\n",
        "    markers = ('s', 'x')\n",
        "    colors = ('red', 'blue')\n",
        "    cmap = ListedColormap(colors[:len(np.unique(y))])\n",
        "    \n",
        "    x1_min, x1_max = X[:, 0].min() - 1, X[:, 0].max() + 1\n",
        "    x2_min, x2_max = X[:, 1].min() - 1, X[:, 1].max() + 1\n",
        "    xx1, xx2 = np.meshgrid(np.arange(x1_min, x1_max, resolution), np.arange(x2_min, x2_max, resolution))\n",
        "    \n",
        "    Z = classifier.predict(np.array([xx1.ravel(), xx2.ravel()]).T)\n",
        "    Z = Z.reshape(xx1.shape)\n",
        "    \n",
        "    plt.contourf(xx1, xx2, Z, alpha=0.3, cmap=cmap)\n",
        "    plt.xlim(xx1.min(), xx1.max())\n",
        "    plt.ylim(xx2.min(), xx2.max())\n",
        "\n",
        "    for idx, cl in enumerate(np.unique(y)):\n",
        "        plt.scatter(x=X[y == cl, 0], \n",
        "                    y=X[y == cl, 1],\n",
        "                    alpha=0.8, \n",
        "                    c=colors[idx],\n",
        "                    marker=markers[idx], \n",
        "                    label=cl, \n",
        "                    edgecolor='black')\n",
        "\n",
        "# Define the classifiers\n",
        "classifiers = [classifier, poly_svc, rbf_svc]\n",
        "names = ['Linear SVC', 'Poly SVC', 'RBF SVC']\n",
        "\n",
        "for clf, name in zip(classifiers, names):\n",
        "    plt.figure()\n",
        "    plot_decision_regions(X_train, y_train, classifier=clf)\n",
        "    plt.legend(loc='upper left')\n",
        "    plt.tight_layout()\n",
        "    plt.title(name)\n",
        "    plt.show()\n"
      ],
      "metadata": {
        "id": "8cQEKSj_izRa"
      },
      "execution_count": null,
      "outputs": []
    }
  ]
}