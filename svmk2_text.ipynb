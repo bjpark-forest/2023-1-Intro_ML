{
  "nbformat": 4,
  "nbformat_minor": 0,
  "metadata": {
    "colab": {
      "provenance": [],
      "include_colab_link": true
    },
    "kernelspec": {
      "name": "python3",
      "display_name": "Python 3"
    },
    "language_info": {
      "name": "python"
    }
  },
  "cells": [
    {
      "cell_type": "markdown",
      "metadata": {
        "id": "view-in-github",
        "colab_type": "text"
      },
      "source": [
        "<a href=\"https://colab.research.google.com/github/bjpark-forest/2023-1-Intro_ML/blob/main/svmk2_text.ipynb\" target=\"_parent\"><img src=\"https://colab.research.google.com/assets/colab-badge.svg\" alt=\"Open In Colab\"/></a>"
      ]
    },
    {
      "cell_type": "markdown",
      "source": [
        "**rbf** **example** "
      ],
      "metadata": {
        "id": "sNUpfbhrPGu7"
      }
    },
    {
      "cell_type": "code",
      "source": [
        "from sklearn.datasets import make_blobs\n",
        "from sklearn.svm import SVC\n",
        "import numpy as np\n",
        "import matplotlib.pyplot as plt\n",
        "\n",
        "# 2차원 데이터 생성\n",
        "X, y = make_blobs(n_samples=100, centers=2, random_state=123, cluster_std=1.0)\n",
        "\n",
        "# SVM with RBF kernel\n",
        "clf_svm = SVC(kernel='rbf', gamma=10) #try 0.1; 1; 10 \n",
        "clf_svm.fit(X, y)\n",
        "\n",
        "# 시각화를 위한 그리드 생성\n",
        "x_min, x_max = X[:, 0].min() - 1, X[:, 0].max() + 1\n",
        "y_min, y_max = X[:, 1].min() - 1, X[:, 1].max() + 1\n",
        "xx, yy = np.meshgrid(np.arange(x_min, x_max, 0.02),\n",
        "                     np.arange(y_min, y_max, 0.02))\n",
        "\n",
        "Z = clf_svm.predict(np.c_[xx.ravel(), yy.ravel()])\n",
        "Z = Z.reshape(xx.shape)\n",
        "\n",
        "# 원본 데이터와 결정 경계 시각화\n",
        "plt.figure(figsize=(10, 5))\n",
        "plt.contourf(xx, yy, Z, alpha=0.8, cmap='coolwarm')\n",
        "plt.scatter(X[:, 0], X[:, 1], c=y, cmap='coolwarm', edgecolors='k')\n",
        "plt.title('SVM rbf with Decision Boundary')\n",
        "plt.show()\n"
      ],
      "metadata": {
        "id": "OM2l9uOnFAMa"
      },
      "execution_count": null,
      "outputs": []
    },
    {
      "cell_type": "markdown",
      "source": [
        "**rbf to calculate similarity**"
      ],
      "metadata": {
        "id": "aj1ZgV51PUJT"
      }
    },
    {
      "cell_type": "code",
      "source": [
        "import numpy as np\n",
        "import matplotlib.pyplot as plt\n",
        "from sklearn.metrics.pairwise import rbf_kernel\n",
        "\n",
        "# 2차원 공간에서 2개의 그룹 점 생성\n",
        "cluster1 = np.array([[0, 0], [0, 0.1]])\n",
        "cluster2 = np.array([[2, 2], [2.1, 2.1]])\n",
        "\n",
        "# 하나의 데이터셋으로 합침\n",
        "X = np.vstack((cluster1, cluster2))\n",
        "\n",
        "# RBF 커널 유사성 계산\n",
        "g = 1.0\n",
        "similarity = rbf_kernel(X, gamma=g)\n",
        "\n",
        "# 데이터 포인트와 유사성 행렬 시각화\n",
        "plt.figure(figsize=(10, 5))\n",
        "\n",
        "plt.subplot(1, 2, 1)\n",
        "plt.scatter(X[:, 0], X[:, 1])\n",
        "plt.title('Data')\n",
        "\n",
        "plt.subplot(1, 2, 2)\n",
        "plt.imshow(similarity, cmap='hot', interpolation='nearest')\n",
        "plt.title('Similarity Matrix')\n",
        "plt.colorbar(label='similarity')\n",
        "\n",
        "plt.show()\n",
        "\n",
        "#소수점으로 유사점 출력 \n",
        "np.set_printoptions(precision=2, suppress=True)\n",
        "print(similarity)"
      ],
      "metadata": {
        "id": "512ZDDmiJZUt"
      },
      "execution_count": null,
      "outputs": []
    }
  ]
}