{
  "nbformat": 4,
  "nbformat_minor": 0,
  "metadata": {
    "colab": {
      "provenance": [],
      "include_colab_link": true
    },
    "kernelspec": {
      "name": "python3",
      "display_name": "Python 3"
    },
    "language_info": {
      "name": "python"
    }
  },
  "cells": [
    {
      "cell_type": "markdown",
      "metadata": {
        "id": "view-in-github",
        "colab_type": "text"
      },
      "source": [
        "<a href=\"https://colab.research.google.com/github/bjpark-forest/2023-1-Intro_ML/blob/main/knn_final_exercise.ipynb\" target=\"_parent\"><img src=\"https://colab.research.google.com/assets/colab-badge.svg\" alt=\"Open In Colab\"/></a>"
      ]
    },
    {
      "cell_type": "code",
      "source": [
        "import pandas as pd\n",
        "import numpy as np\n",
        "import random\n",
        "import matplotlib.pyplot as plt\n",
        "from sklearn.datasets import load_iris\n",
        "from sklearn.model_selection import train_test_split, cross_val_score\n",
        "from sklearn.neighbors import KNeighborsClassifier\n",
        "from sklearn.metrics import accuracy_score\n",
        "\n",
        "# ??\n",
        "iris = load_iris()\n",
        "df = pd.DataFrame(data=iris.data, columns=iris.feature_names)\n",
        "df['target'] = iris.target\n",
        "df.columns = ['sl', 'sw', 'pl', 'pw', 'label']\n"
      ],
      "metadata": {
        "id": "vDjpnSuaonFJ"
      },
      "execution_count": null,
      "outputs": []
    },
    {
      "cell_type": "code",
      "source": [
        "# ??\n",
        "random.seed(37)\n",
        "np.random.seed(37)\n"
      ],
      "metadata": {
        "id": "qIf_Jp7yvUoK"
      },
      "execution_count": null,
      "outputs": []
    },
    {
      "cell_type": "code",
      "source": [
        "# ??\n",
        "train, test = train_test_split(df, test_size=0.2)\n",
        "x_train = train[['pl', 'pw']]\n",
        "y_train = train[['label']]\n",
        "x_test = test[['pl', 'pw']]\n",
        "y_test = test[['label']]\n",
        "\n",
        "\n"
      ],
      "metadata": {
        "id": "lNGCqfoxvUya"
      },
      "execution_count": null,
      "outputs": []
    },
    {
      "cell_type": "code",
      "source": [
        "# ??\n",
        "def find_optimal_k_value(train):\n",
        "    max_k_range = train.shape[0] // 2\n",
        "    k_list = [i for i in range(3, max_k_range, 2)]\n",
        "    cross_validation_scores = []\n",
        "    \n",
        "    for k in k_list:\n",
        "        knn = KNeighborsClassifier(n_neighbors=k)\n",
        "        scores = cross_val_score(knn, x_train, y_train.values.ravel(), cv=10, scoring='accuracy')\n",
        "        cross_validation_scores.append(scores.mean())\n",
        "        \n",
        "    optimal_k = k_list[cross_validation_scores.index(max(cross_validation_scores))]\n",
        "    return optimal_k, k_list, cross_validation_scores\n",
        "\n"
      ],
      "metadata": {
        "id": "R0cZSh9yvU5Q"
      },
      "execution_count": null,
      "outputs": []
    },
    {
      "cell_type": "code",
      "source": [
        "# ??\n",
        "def plot_k_values(k_list, cross_validation_scores):\n",
        "    plt.plot(k_list, cross_validation_scores)\n",
        "    plt.xlabel('k value')\n",
        "    plt.ylabel('accuracy')\n",
        "    plt.show()\n",
        "\n"
      ],
      "metadata": {
        "id": "TONIyXORvU-Q"
      },
      "execution_count": null,
      "outputs": []
    },
    {
      "cell_type": "code",
      "source": [
        "# ??\n",
        "def display_comparison(predictions, y_test):\n",
        "    comparison = pd.DataFrame({'pred': predictions, 'truth': y_test.values.ravel()})\n",
        "    print(comparison)\n",
        "\n"
      ],
      "metadata": {
        "id": "Q5CtmGdZvwho"
      },
      "execution_count": null,
      "outputs": []
    },
    {
      "cell_type": "code",
      "source": [
        "# ??\n",
        "optimal_k, k_list, cross_validation_scores = find_optimal_k_value(train)\n",
        "for k, cv in zip(k_list, cross_validation_scores):\n",
        "    rounded_cv = round(cv, 3)\n",
        "    print(f\"k({k}): {rounded_cv}\")\n",
        "\n",
        "print(\"Optimal k-value:\", optimal_k)\n",
        "\n"
      ],
      "metadata": {
        "id": "WMZ0l1vUvwlL"
      },
      "execution_count": null,
      "outputs": []
    },
    {
      "cell_type": "code",
      "source": [
        "# ??\n",
        "plot_k_values(k_list, cross_validation_scores)\n",
        "\n"
      ],
      "metadata": {
        "id": "wlLPgmjDvVEb"
      },
      "execution_count": null,
      "outputs": []
    },
    {
      "cell_type": "code",
      "source": [
        "# ??\n",
        "knn = KNeighborsClassifier(n_neighbors=optimal_k)\n",
        "knn.fit(x_train, y_train.values.ravel())\n",
        "\n"
      ],
      "metadata": {
        "id": "CsfNj8igwBKx"
      },
      "execution_count": null,
      "outputs": []
    },
    {
      "cell_type": "code",
      "source": [
        "# ??\n",
        "predictions = knn.predict(x_test)\n",
        "print(\"Accuracy is:\", round(accuracy_score(y_test.values.ravel(), predictions),3))\n",
        "\n",
        "# ??\n",
        "display_comparison(predictions, y_test)"
      ],
      "metadata": {
        "id": "OTIf5fuNwD-A"
      },
      "execution_count": null,
      "outputs": []
    }
  ]
}