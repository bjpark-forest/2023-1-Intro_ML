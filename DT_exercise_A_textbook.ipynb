{
  "cells": [
    {
      "cell_type": "markdown",
      "metadata": {
        "id": "view-in-github",
        "colab_type": "text"
      },
      "source": [
        "<a href=\"https://colab.research.google.com/github/bjpark-forest/2023-1-Intro_ML/blob/main/DT_exercise_A_textbook.ipynb\" target=\"_parent\"><img src=\"https://colab.research.google.com/assets/colab-badge.svg\" alt=\"Open In Colab\"/></a>"
      ]
    },
    {
      "cell_type": "code",
      "source": [
        "import pandas as pd\n",
        "import matplotlib.pyplot as plt\n",
        "import seaborn as sns\n",
        "\n",
        "#구글드라이버 데이터 공유 코드드\n",
        "import requests\n",
        "import io\n",
        "\n",
        "url1 = \"https://drive.google.com/uc?id=11aLmif4VjP8L4N889y1TRBaQSyjgBSeY&export=download\"\n",
        "url2 = \"https://drive.google.com/uc?id=1jKWFx4Nq4B4N_EF1wNcI02DZuy8Cfb4w&export=download\"\n",
        "\n",
        "response1 = requests.get(url1)\n",
        "response2 = requests.get(url2)\n",
        "\n",
        "# Read CSV data using pandas\n",
        "train_df = pd.read_csv(io.StringIO(response2.content.decode('utf-8')))\n",
        "test_df = pd.read_csv(io.StringIO(response1.content.decode('utf-8')))\n",
        "train_df\n"
      ],
      "metadata": {
        "id": "O4TCBzGlaI2e"
      },
      "execution_count": null,
      "outputs": []
    },
    {
      "cell_type": "code",
      "source": [
        "# data visualization\n",
        "sns.lmplot(x='Longitude', y='Latitude', data=train_df, fit_reg=False, hue=\"Continent\")\n",
        "plt.show()"
      ],
      "metadata": {
        "id": "TBBrxWw4iTVo"
      },
      "execution_count": null,
      "outputs": []
    },
    {
      "cell_type": "markdown",
      "metadata": {
        "id": "Mhe3mmZ85jX1"
      },
      "source": [
        "# split (1) feature vs label datasets and (2) train vs test"
      ]
    },
    {
      "cell_type": "code",
      "execution_count": null,
      "metadata": {
        "id": "Z3LnjVHL5jX1"
      },
      "outputs": [],
      "source": [
        "X_train = train_df[['Longitude', 'Latitude']]\n",
        "y_train = train_df[['Continent']]\n",
        "\n",
        "X_test = test_df[['Longitude', 'Latitude']]\n",
        "y_test = test_df[['Continent']]"
      ]
    },
    {
      "cell_type": "markdown",
      "source": [
        "#Run a tree-decision ML"
      ],
      "metadata": {
        "id": "cg0qHzRYg0yA"
      }
    },
    {
      "cell_type": "code",
      "execution_count": null,
      "metadata": {
        "id": "LpRj4ES15jX1"
      },
      "outputs": [],
      "source": [
        "from sklearn import tree\n",
        "import numpy as np\n",
        "import matplotlib.pyplot as plt\n",
        "from sklearn import preprocessing\n",
        "from sklearn.tree import DecisionTreeClassifier\n",
        "from sklearn.preprocessing import LabelEncoder\n",
        "\n",
        "\n"
      ]
    },
    {
      "cell_type": "markdown",
      "source": [
        "#Define a function of shaing four regions \n",
        "####(by Hun-Chul Roh, 2019 Fall Advanced ML Prof. Lim)\n",
        "\n",
        "\n",
        "\n",
        "\n"
      ],
      "metadata": {
        "id": "faRu5AKjg_pg"
      }
    },
    {
      "cell_type": "code",
      "execution_count": null,
      "metadata": {
        "id": "DxbYVf4g5jX1"
      },
      "outputs": [],
      "source": [
        "def display_decision_surface(clf,X, y):\n",
        "    \n",
        "    # 챠트의 범위 설정\n",
        "    x_min = X.Longitude.min() - 5\n",
        "    x_max = X.Longitude.max() + 5\n",
        "    y_min = X.Latitude.min() - 5\n",
        "    y_max = X.Latitude.max() + 5\n",
        "    \n",
        "    # 파라미터 설정\n",
        "    n_classes = len(le.classes_)\n",
        "    plot_colors = \"rywb\"\n",
        "    plot_step = 1\n",
        "\n",
        "    xx, yy = np.meshgrid(np.arange(x_min, x_max, plot_step),\n",
        "                        np.arange(y_min, y_max, plot_step))\n",
        "    \n",
        "    Z = clf.predict(np.c_[xx.ravel(), yy.ravel()])\n",
        "    Z = Z.reshape(xx.shape)\n",
        "    cs = plt.contourf(xx, yy, Z, cmap=plt.cm.RdYlBu)\n",
        "\n",
        "\n",
        "    # 학습 데이터를 챠트에 표시\n",
        "    for i, color in zip(range(n_classes), plot_colors):\n",
        "        idx = np.where(y == i)\n",
        "        plt.scatter(X.loc[idx].Longitude, \n",
        "                    X.loc[idx].Latitude, \n",
        "                    c=color, \n",
        "                    label=le.classes_[i],\n",
        "                    cmap=plt.cm.RdYlBu, edgecolor='black', s=200)\n",
        "\n",
        "   \n",
        "    # 챠트 레전드\n",
        "    plt.legend(bbox_to_anchor=(1.05, 1), loc=2, borderaxespad=0., fontsize=10)\n",
        "    # x축\n",
        "    plt.xlabel('Longitude',fontsize=16)\n",
        "    # y축\n",
        "    plt.ylabel('Latitude',fontsize=16)\n",
        "    # 챠트 크기/폰트 설정\n",
        "    plt.rcParams[\"figure.figsize\"] = [10,10]\n",
        "    plt.rcParams[\"font.size\"] = 14\n",
        "    # x축 좌표상의 폰트 크기 설정\n",
        "    plt.rcParams[\"xtick.labelsize\"] = 14\n",
        "    # y축 좌표상의 폰트 크기 설정\n",
        "    plt.rcParams[\"ytick.labelsize\"] = 14\n",
        "    # 챠트 그리기\n",
        "    plt.show()"
      ]
    },
    {
      "cell_type": "code",
      "execution_count": null,
      "metadata": {
        "id": "rPMuRfOj5jX2"
      },
      "outputs": [],
      "source": [
        "le = preprocessing.LabelEncoder()\n",
        "y_encoded = le.fit_transform(y_train)\n",
        "clf = tree.DecisionTreeClassifier().fit(X_train, y_encoded)\n",
        "display_decision_surface(clf,X_train, y_encoded)"
      ]
    },
    {
      "cell_type": "markdown",
      "metadata": {
        "id": "6gVcv2pg5jX3"
      },
      "source": [
        "# visualizing decision trees"
      ]
    },
    {
      "cell_type": "code",
      "execution_count": null,
      "metadata": {
        "id": "F1oGY2o75jX3"
      },
      "outputs": [],
      "source": [
        "import graphviz\n",
        "dot_data = tree.export_graphviz(clf, \n",
        "                         feature_names=['Longitude','Latitude'],)  \n",
        "                      \n",
        "graph = graphviz.Source(dot_data)  \n",
        "graph"
      ]
    },
    {
      "cell_type": "markdown",
      "metadata": {
        "id": "9GAKL86i5jX3"
      },
      "source": [
        "# model test 1 "
      ]
    },
    {
      "cell_type": "code",
      "execution_count": null,
      "metadata": {
        "id": "pto7UP2S5jX4"
      },
      "outputs": [],
      "source": [
        "from sklearn.metrics import accuracy_score\n",
        "pred = clf.predict(X_test)"
      ]
    },
    {
      "cell_type": "code",
      "execution_count": null,
      "metadata": {
        "id": "T9Iweyqd5jX4"
      },
      "outputs": [],
      "source": [
        "print(f\"accuracy score is {accuracy_score(y_test.values.ravel(),le.classes_[pred]):.3f}\")"
      ]
    },
    {
      "cell_type": "code",
      "execution_count": null,
      "metadata": {
        "id": "IADZBNwO5jX5"
      },
      "outputs": [],
      "source": [
        "comparison = pd.DataFrame({'prediction':le.classes_[pred],\n",
        "                           'ground_truth':y_test.values.ravel()}) \n",
        "comparison"
      ]
    }
  ],
  "metadata": {
    "kernelspec": {
      "display_name": "Python 2",
      "language": "python",
      "name": "python2"
    },
    "language_info": {
      "codemirror_mode": {
        "name": "ipython",
        "version": 2
      },
      "file_extension": ".py",
      "mimetype": "text/x-python",
      "name": "python",
      "nbconvert_exporter": "python",
      "pygments_lexer": "ipython2",
      "version": "2.7.11"
    },
    "colab": {
      "provenance": [],
      "include_colab_link": true
    }
  },
  "nbformat": 4,
  "nbformat_minor": 0
}