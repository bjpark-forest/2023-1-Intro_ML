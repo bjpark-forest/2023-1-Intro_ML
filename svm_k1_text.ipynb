{
  "nbformat": 4,
  "nbformat_minor": 0,
  "metadata": {
    "colab": {
      "provenance": [],
      "include_colab_link": true
    },
    "kernelspec": {
      "name": "python3",
      "display_name": "Python 3"
    },
    "language_info": {
      "name": "python"
    }
  },
  "cells": [
    {
      "cell_type": "markdown",
      "metadata": {
        "id": "view-in-github",
        "colab_type": "text"
      },
      "source": [
        "<a href=\"https://colab.research.google.com/github/bjpark-forest/2023-1-Intro_ML/blob/main/svm_k1_text.ipynb\" target=\"_parent\"><img src=\"https://colab.research.google.com/assets/colab-badge.svg\" alt=\"Open In Colab\"/></a>"
      ]
    },
    {
      "cell_type": "code",
      "source": [
        "import numpy as np\n",
        "import matplotlib.pyplot as plt\n",
        "from sklearn import svm, tree\n",
        "from sklearn.preprocessing import StandardScaler\n",
        "\n",
        "# 데이터 생성\n",
        "np.random.seed(123)\n",
        "red_1 = np.random.normal(5, 2, (10, 1))\n",
        "blue = np.random.normal(12.5, 2, (5, 1))\n",
        "red_2 = np.random.normal(20, 2, (10, 1))\n",
        "\n",
        "X = np.vstack((red_1, blue, red_2))\n",
        "y = np.array([0]*10 + [1]*5 + [0]*10)\n",
        "\n",
        "# 시각화\n",
        "plt.scatter(X, [0]*len(X), c=y, cmap='bwr')\n",
        "plt.show()\n"
      ],
      "metadata": {
        "id": "9qrF6LYl3e6q"
      },
      "execution_count": null,
      "outputs": []
    },
    {
      "cell_type": "code",
      "source": [
        "# 결정 트리 학습\n",
        "clf_tree = tree.DecisionTreeClassifier(random_state=123)\n",
        "clf_tree = clf_tree.fit(X, y)\n",
        "\n",
        "# 트리 시각화\n",
        "plt.figure(figsize=(10, 5))\n",
        "tree.plot_tree(clf_tree)\n",
        "plt.show()\n"
      ],
      "metadata": {
        "id": "D3lhoVNV3hh9"
      },
      "execution_count": null,
      "outputs": []
    },
    {
      "cell_type": "code",
      "source": [
        "# 원래 데이터 시각화\n",
        "plt.figure(figsize=(10, 5))\n",
        "plt.subplot(1, 2, 1)\n",
        "plt.scatter(X, [0]*len(X), c=y, cmap='bwr')\n",
        "plt.title('Original Data')\n",
        "\n",
        "# 데이터 변환\n",
        "X_transformed = np.hstack((X, (X-13)**2))\n",
        "\n",
        "# SVM 학습\n",
        "clf_svm = SVC(kernel='linear', random_state=123)\n",
        "clf_svm = clf_svm.fit(X_transformed, y)\n",
        "\n",
        "# 결정 경계 시각화\n",
        "plt.subplot(1, 2, 2)\n",
        "plt.scatter(X_transformed[:, 0], X_transformed[:, 1], c=y, cmap='bwr')\n",
        "\n",
        "xx = np.linspace(X_transformed[:, 0].min() - 1, X_transformed[:, 0].max() + 1)\n",
        "yy = (-clf_svm.intercept_[0] - clf_svm.coef_[0][0] * xx) / clf_svm.coef_[0][1]\n",
        "\n",
        "plt.plot(xx, yy, 'k-')\n",
        "plt.title('Transformed Data with Decision Boundary')\n",
        "plt.show()\n"
      ],
      "metadata": {
        "id": "_AwDx8OTBKKD"
      },
      "execution_count": null,
      "outputs": []
    }
  ]
}