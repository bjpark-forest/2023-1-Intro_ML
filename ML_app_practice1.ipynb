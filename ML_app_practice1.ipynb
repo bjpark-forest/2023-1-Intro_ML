{
  "nbformat": 4,
  "nbformat_minor": 0,
  "metadata": {
    "colab": {
      "provenance": [],
      "include_colab_link": true
    },
    "kernelspec": {
      "name": "python3",
      "display_name": "Python 3"
    },
    "language_info": {
      "name": "python"
    }
  },
  "cells": [
    {
      "cell_type": "markdown",
      "metadata": {
        "id": "view-in-github",
        "colab_type": "text"
      },
      "source": [
        "<a href=\"https://colab.research.google.com/github/bjpark-forest/2023-1-Intro_ML/blob/main/ML_app_practice1.ipynb\" target=\"_parent\"><img src=\"https://colab.research.google.com/assets/colab-badge.svg\" alt=\"Open In Colab\"/></a>"
      ]
    },
    {
      "cell_type": "code",
      "execution_count": null,
      "metadata": {
        "id": "w1LMoU1bm8ZM"
      },
      "outputs": [],
      "source": [
        "!pip install streamlit -q\n",
        "!pip install pyngrok\n"
      ]
    },
    {
      "cell_type": "code",
      "source": [
        "%%writefile app.py\n",
        "import streamlit as st\n",
        "import numpy as np\n",
        "from PIL import Image\n",
        "from sklearn.datasets import fetch_openml\n",
        "from sklearn.svm import SVC\n",
        "\n",
        "# MNIST 데이터셋 다운로드\n",
        "mnist = fetch_openml('mnist_784')\n",
        "X = mnist.data.astype(np.float32)  \n",
        "y = mnist.target.astype(int)\n",
        "\n",
        "# SVM 분류기로 모델 학습\n",
        "clf = SVC(kernel='linear', probability=True)\n",
        "X = X / 255.0  # 이미지 정규화\n",
        "clf.fit(X, y)\n",
        "\n",
        "st.write(\"\"\"\n",
        "# 숫자 이미지 분류기\n",
        "이 앱은 mnist 데이터을 사용하여 만들었습니다. 업로드된 이미지를 기반으로 숫자 이미지 분류가 가능합니다.\n",
        "\"\"\")\n",
        "\n",
        "# 이미지 업로드 및 처리\n",
        "uploaded_file = st.file_uploader(\"Upload an image\", type=[\"jpg\", \"png\", \"bmp\"])\n",
        "if uploaded_file is not None:\n",
        "    image = Image.open(uploaded_file).convert('L')\n",
        "    image = np.array(image, dtype=np.float32)  \n",
        "    image_normalized = image / 255.0\n",
        "    st.image(image_normalized, caption='Uploaded Image', use_column_width=True)\n",
        "    st.write(\"\")\n",
        "    st.write(\"이미지 예측\")\n",
        "\n",
        "    # 이미지 분류 예측\n",
        "    image = Image.fromarray(image)  # numpy 배열을 이미지로 변환\n",
        "    image = image.resize((28, 28))\n",
        "    image_processed = np.array(image, dtype=np.float32) / 255.0\n",
        "    image_processed = image_processed.reshape(1, -1)\n",
        "    prediction = clf.predict(image_processed)\n",
        "    prediction_proba = clf.predict_proba(image_processed)\n",
        "\n",
        "    st.write(\"예측 결과: \", prediction[0])\n",
        "    st.write(\"예측 확률: \")\n",
        "    st.write(prediction_proba)"
      ],
      "metadata": {
        "id": "EbVzIe4ezzBE"
      },
      "execution_count": null,
      "outputs": []
    },
    {
      "cell_type": "code",
      "source": [
        "!nohup streamlit run app.py --server.port 8081 &\n",
        "\n",
        "from pyngrok import ngrok, conf\n",
        "\n",
        "# Set the authtoken\n",
        "ngrok.set_auth_token(\"2OohhVf2NBHIvPZ08W18dc1BNBh_2yVDj9aBP7NFuw26cRdei\")\n",
        "\n",
        "# Set the configuration\n",
        "config = conf.PyngrokConfig()\n",
        "ngrok.config = config\n",
        "\n",
        "# Connect the tunnel\n",
        "url = ngrok.connect(8081, proto=\"http\", bind_tls=True)\n",
        "url"
      ],
      "metadata": {
        "id": "RXBoUc6Zydid"
      },
      "execution_count": null,
      "outputs": []
    },
    {
      "cell_type": "code",
      "source": [
        "!pkill ngrok\n",
        "#ngrok.kill()"
      ],
      "metadata": {
        "id": "46jegIZo3gGj"
      },
      "execution_count": null,
      "outputs": []
    }
  ]
}