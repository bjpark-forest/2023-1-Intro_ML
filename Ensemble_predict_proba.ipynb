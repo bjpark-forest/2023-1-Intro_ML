{
  "nbformat": 4,
  "nbformat_minor": 0,
  "metadata": {
    "colab": {
      "provenance": [],
      "include_colab_link": true
    },
    "kernelspec": {
      "name": "python3",
      "display_name": "Python 3"
    },
    "language_info": {
      "name": "python"
    }
  },
  "cells": [
    {
      "cell_type": "markdown",
      "metadata": {
        "id": "view-in-github",
        "colab_type": "text"
      },
      "source": [
        "<a href=\"https://colab.research.google.com/github/bjpark-forest/2023-1-Intro_ML/blob/main/Ensemble_predict_proba.ipynb\" target=\"_parent\"><img src=\"https://colab.research.google.com/assets/colab-badge.svg\" alt=\"Open In Colab\"/></a>"
      ]
    },
    {
      "cell_type": "code",
      "execution_count": null,
      "metadata": {
        "id": "8NTm5pF2kOZZ"
      },
      "outputs": [],
      "source": [
        "import numpy as np\n",
        "import random\n",
        "\n",
        "np.random.seed(42)\n",
        "\n",
        "\n",
        "# train data 1=1, 2=2, 3=3 ...\n",
        "train_x = np.array([1, 2, 3, 4])\n",
        "train_y = np.array([10, 20, 30, 40])\n",
        "\n",
        "# testing data\n",
        "test_x = np.array([2, 3, 1, 4])\n",
        "test_y = np.array([20, 30, 10, 40])\n"
      ]
    },
    {
      "cell_type": "code",
      "source": [
        "# call RandomForestClassifier\n",
        "from sklearn.ensemble import RandomForestClassifier\n",
        "\n",
        "# run the model\n",
        "rf = RandomForestClassifier()\n",
        "rf.fit(train_x.reshape(-1, 1), train_y)\n",
        "\n"
      ],
      "metadata": {
        "id": "vtkuZoyGmQlO"
      },
      "execution_count": null,
      "outputs": []
    },
    {
      "cell_type": "code",
      "source": [
        "rf.predict(test_x.reshape(-1, 1))"
      ],
      "metadata": {
        "id": "tiVgvnwGpLtl"
      },
      "execution_count": null,
      "outputs": []
    },
    {
      "cell_type": "code",
      "source": [
        "\n",
        "# predict_proba:  P(test_x = train_y) ie. \"2\" is very likely (75%) to be 20. \n",
        "proba_result = rf.predict_proba(test_x.reshape(-1, 1))\n",
        "proba_result"
      ],
      "metadata": {
        "id": "bwIW7lmJpKxt"
      },
      "execution_count": null,
      "outputs": []
    }
  ]
}