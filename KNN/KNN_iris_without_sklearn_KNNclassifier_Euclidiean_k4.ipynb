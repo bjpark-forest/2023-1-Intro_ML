{
  "cells": [
    {
      "cell_type": "markdown",
      "metadata": {
        "id": "view-in-github",
        "colab_type": "text"
      },
      "source": [
        "<a href=\"https://colab.research.google.com/github/bjpark-forest/2023-1-Intro_ML/blob/main/KNN_iris_without_sklearn_KNNclassifier_Euclidiean_k4.ipynb\" target=\"_parent\"><img src=\"https://colab.research.google.com/assets/colab-badge.svg\" alt=\"Open In Colab\"/></a>"
      ]
    },
    {
      "cell_type": "markdown",
      "metadata": {
        "id": "02815TQOfyTH"
      },
      "source": [
        "* 발표자: 정익찬(2023431216), 박봉주(2023431213)"
      ]
    },
    {
      "cell_type": "markdown",
      "metadata": {
        "id": "MvbZMpVLfz5r"
      },
      "source": [
        "# Create/explaining a simple classification code with a decision rule similar to KNN"
      ]
    },
    {
      "cell_type": "markdown",
      "metadata": {
        "id": "J_1RBszmf9pH"
      },
      "source": [
        "### 사전 준비\n",
        "- 데이터 수집 : sklearn.datasets.load_iris\n",
        "- 데이터 분할 : sklearn.model_selection.train_test_split"
      ]
    },
    {
      "cell_type": "code",
      "execution_count": null,
      "metadata": {
        "id": "rmwa3gfYbu3f"
      },
      "outputs": [],
      "source": [
        "# 파이썬 pandas 라이브러리를 불러오기(import pandas)\n",
        "import pandas as pd\n",
        "# 사이킷런에 준비된 데이터셋에서 아이리스 데이터를 불러오기(load_iris)\n",
        "from sklearn.datasets import load_iris \n",
        "# 불러온 아이리스 데이터를 메모리에 객체(instance)로 만들기\n",
        "iris = load_iris() "
      ]
    },
    {
      "cell_type": "code",
      "execution_count": null,
      "metadata": {
        "id": "TzRKFJokblWV"
      },
      "outputs": [],
      "source": [
        "# iris.data와 iris.feature_names를 활용하여 데이터프레임 자료구조에 값을 넣은 후 df라는 변수에 할당하기\n",
        "df = pd.DataFrame(data=iris.data, columns=iris.feature_names)\n",
        "\n",
        "# 데이터프레임에 'target'이라는 새로운 열을 만들고, 해당 열의 값에 iris.target값을 대입하기\n",
        "df['target'] = iris.target"
      ]
    },
    {
      "cell_type": "code",
      "execution_count": null,
      "metadata": {
        "id": "jQrHh-67dq3A"
      },
      "outputs": [],
      "source": [
        "# df 데이터프레임의 열 이름을 아래와 같이 바꾸기\n",
        "df.columns=['sl','sw','pl','pw','label']"
      ]
    },
    {
      "cell_type": "code",
      "execution_count": null,
      "metadata": {
        "id": "E51EnryickNG"
      },
      "outputs": [],
      "source": [
        "# 준비된 데이터를 학습용과 검증용으로 나누기\n",
        "# 150개의 데이터 샘플을 학습용 80%(120개)와 검증용 20%(30개)로 나눔.\n",
        "# random_state: 모델 결과 재현을 위해 생성 시킨 의사 난수(pseudo random number)\n",
        "from sklearn.model_selection import train_test_split\n",
        "train,test=train_test_split(df,test_size=0.2, random_state=42)"
      ]
    },
    {
      "cell_type": "code",
      "execution_count": null,
      "metadata": {
        "id": "IJVO40rZtStS"
      },
      "outputs": [],
      "source": [
        "# 학습용 데이터를 다시 특성 데이터(x_train)와 라벨 데이터(y_train)로 나누기\n",
        "x_train=train.drop('label', axis=1)\n",
        "y_train=train['label']"
      ]
    },
    {
      "cell_type": "code",
      "execution_count": null,
      "metadata": {
        "id": "ABzrTfP0gCnX"
      },
      "outputs": [],
      "source": [
        "#  검증용 데이터를 특성 데이터(x_test)와 라벨 데이터(y_train)으로 나누기\n",
        "x_test=test.drop('label', axis=1)\n",
        "y_test=test['label']"
      ]
    },
    {
      "cell_type": "code",
      "execution_count": null,
      "metadata": {
        "colab": {
          "base_uri": "https://localhost:8080/"
        },
        "id": "2fTW9suEilQw",
        "outputId": "6d1e2aca-93ed-4cc0-fc7d-101693639dd9"
      },
      "outputs": [
        {
          "data": {
            "text/plain": [
              "(120, 120, 30, 30)"
            ]
          },
          "execution_count": 9,
          "metadata": {},
          "output_type": "execute_result"
        }
      ],
      "source": [
        "# 학습용 데이터와 검증용 데이터 갯수 확인\n",
        "len(x_train), len(y_train), len(x_test), len(y_test)"
      ]
    },
    {
      "cell_type": "code",
      "execution_count": null,
      "metadata": {
        "id": "CunWsICzQwBR"
      },
      "outputs": [],
      "source": []
    },
    {
      "cell_type": "markdown",
      "metadata": {
        "id": "vzShYgf-Qw1X"
      },
      "source": [
        "# 방법1 ) 사이킷런의  KNeighborsClassifier 분류기를 사용하는 경우"
      ]
    },
    {
      "cell_type": "markdown",
      "metadata": {
        "id": "IxXFHsNBQ5ca"
      },
      "source": [
        "#### sklearn 공식 문서의 KNN 구현 방법 \n",
        "https://scikit-learn.org/stable/modules/generated/sklearn.neighbors.KNeighborsClassifier.html\n",
        "\n",
        "- p: int, default=2\n",
        "Power parameter for the Minkowski metric. When p = 1, this is equivalent to using manhattan_distance (l1), and euclidean_distance (l2) for p = 2. For arbitrary p, minkowski_distance (l_p) is used.\n",
        "\n",
        "- metric: str or callable, default=’minkowski’\n",
        "Metric to use for distance computation. Default is “minkowski”, which results in the standard Euclidean distance when p = 2.\n",
        "\n",
        "* 민코프스키 거리(minkowski Distance) \n",
        "- n차원 민코프스키 공간에서의 거리 \n",
        "- X = $({x_1, x_2, x_3,..., x_n})$, Y= $({y_1, y_2, y_3, ..., y_n})$ \n",
        "- D(X, Y) = $({{\\vert{x_{1} - y_{1}}\\vert}^p + {\\vert{x_{2} - y_{2}}\\vert}^p + ... + {\\vert{x_{p} - y_{p}}\\vert}^p })^{1\\over p}$\n",
        "- D(X, Y) = $(\\displaystyle\\sum_{i=1}^{n}{{\\vert{x_{i} - y_{i}}\\vert}^p  })^{1\\over p}$"
      ]
    },
    {
      "cell_type": "code",
      "execution_count": null,
      "metadata": {
        "colab": {
          "base_uri": "https://localhost:8080/"
        },
        "id": "sHmUdILdc5Nq",
        "outputId": "dd254ccc-07dd-470a-bb1c-8c33c7de5146"
      },
      "outputs": [
        {
          "name": "stdout",
          "output_type": "stream",
          "text": [
            "[1 0 2 1 1 0 1 2 1 1 2 0 0 0 0 1 2 1 1 2 0 2 0 2 2 2 2 2 0 0]\n",
            "[1 0 2 1 1 0 1 2 1 1 2 0 0 0 0 1 2 1 1 2 0 2 0 2 2 2 2 2 0 0]\n"
          ]
        }
      ],
      "source": [
        "\n",
        "from sklearn.neighbors import KNeighborsClassifier\n",
        "knn = KNeighborsClassifier(n_neighbors=4)\n",
        "knn.fit(x_train,y_train.values)\n",
        "predictions = knn.predict(x_test)\n",
        "print(predictions)\n",
        "print(y_test.values)"
      ]
    },
    {
      "cell_type": "code",
      "execution_count": null,
      "metadata": {
        "colab": {
          "base_uri": "https://localhost:8080/"
        },
        "id": "k7TbDHDwI7kN",
        "outputId": "fd6c10a2-b393-492d-ae0d-bed5ff7e055d"
      },
      "outputs": [
        {
          "data": {
            "text/plain": [
              "1.0"
            ]
          },
          "execution_count": 11,
          "metadata": {},
          "output_type": "execute_result"
        }
      ],
      "source": [
        "# 정확도: 일치하는 값의 갯수 / 전체 개수\n",
        "accuracy = ((predictions == y_test.values).sum()) / len(predictions)\n",
        "accuracy"
      ]
    },
    {
      "cell_type": "markdown",
      "metadata": {
        "id": "slxJ4by4eCSf"
      },
      "source": [
        "# 방법2) 사이킷런을 사용하지 않고 직접 구현하는 경우"
      ]
    },
    {
      "cell_type": "markdown",
      "metadata": {
        "id": "VbaWZo5MC1GM"
      },
      "source": [
        "### Create/explaining a simple classification code with a decision rule similar to KNN\n",
        "\n",
        "- 차원이 n(특성의 수)인 두 샘플의 유클리드 거리(p=2)를 기반으로 모든 데이터 샘플간의 거리를 구함.\n",
        "- D(X, Y) = $\\sqrt {{\\vert{x_1 - y_1}\\vert}^2 + {\\vert{x_2 - y_j}\\vert}^2 + ... + {\\vert{x_n - y_n}\\vert}^2 }$"
      ]
    },
    {
      "cell_type": "code",
      "execution_count": null,
      "metadata": {
        "colab": {
          "base_uri": "https://localhost:8080/"
        },
        "id": "LbkZlX5PgaXg",
        "outputId": "edb48200-6afd-4e48-e2da-9efb67a7cd26"
      },
      "outputs": [
        {
          "name": "stdout",
          "output_type": "stream",
          "text": [
            "[1, 0, 2, 1, 1, 0, 1, 2, 1, 1, 2, 0, 0, 0, 0, 1, 2, 1, 1, 2, 0, 2, 0, 2, 2, 2, 2, 2, 0, 0]\n",
            "[1, 0, 2, 1, 1, 0, 1, 2, 1, 1, 2, 0, 0, 0, 0, 1, 2, 1, 1, 2, 0, 2, 0, 2, 2, 2, 2, 2, 0, 0]\n"
          ]
        }
      ],
      "source": [
        "import numpy as np\n",
        "predictions = []\n",
        "for i, each in zip(x_test.index, x_test.values):  # x_test의 모든 데이터 샘플(30개)에 대한 예측값을 구하기 위해 테스트 데이터 순회\n",
        "  #print(i, each)       \n",
        "  distance_list = [] #  각 샘플마다 측정한 거리를 저장할 자료 구조\n",
        "  for j, each_train in zip(x_train.index, x_train.values): #  현재 테스트 중인 특정 샘플에서 120개 다른 샘플에 대한 거리 측정 후 가까운 순서대로 정렬\n",
        "    #print(j, each_train)\n",
        "    each_point = [(xi, xj) for xi, xj in zip(each, each_train)]\n",
        "    #print(each_point)\n",
        "    each_distance = np.sqrt(sum([(xi - xj)*(xi - xj) for xi, xj in zip(each, each_train)]))\n",
        "    distance_list.append((j, each_distance))\n",
        "\n",
        "  # 현재 샘플의 위치에서 거리가 짧은 순서로 정렬\n",
        "  # k=4 (방법1과 동일한 기준)\n",
        "  # 해당 샘플과 가장 가까운 샘플 번호의 레이블 정보를 수집\n",
        "  distance_list= sorted(distance_list, key=lambda x: x[1])\n",
        "  index_list = [ i[0] for i in distance_list[:4]]\n",
        "  \n",
        "  # KNN 알고리즘과 같이 다수결로 정함 (결과가 동률인 경우 앞의 값을 선택함)\n",
        "  # 최빈값을 0번 인덱스로 출력하는 pandas.series.mode() 메소드\n",
        "  y_pred = df.label[index_list].mode().values[0] \n",
        "    \n",
        "  predictions.append(y_pred)\n",
        "\n",
        "print(predictions)\n",
        "print(list(y_test))"
      ]
    },
    {
      "cell_type": "code",
      "execution_count": null,
      "metadata": {
        "id": "tQkZJTbRoSOz"
      },
      "outputs": [],
      "source": [
        "distance_list"
      ]
    },
    {
      "cell_type": "code",
      "execution_count": null,
      "metadata": {
        "colab": {
          "base_uri": "https://localhost:8080/"
        },
        "id": "xrgjCIwdG7aF",
        "outputId": "b77d18cc-ffb3-42a0-8452-402880645f37"
      },
      "outputs": [
        {
          "data": {
            "text/plain": [
              "(Int64Index([ 73,  18, 118,  78,  76,  31,  64, 141,  68,  82, 110,  12,  36,\n",
              "               9,  19,  56, 104,  69,  55, 132,  29, 127,  26, 128, 131, 145,\n",
              "             108, 143,  45,  30],\n",
              "            dtype='int64'),\n",
              " Int64Index([ 73,  18, 118,  78,  76,  31,  64, 141,  68,  82, 110,  12,  36,\n",
              "               9,  19,  56, 104,  69,  55, 132,  29, 127,  26, 128, 131, 145,\n",
              "             108, 143,  45,  30],\n",
              "            dtype='int64'))"
            ]
          },
          "execution_count": 18,
          "metadata": {},
          "output_type": "execute_result"
        }
      ],
      "source": [
        "# 검증용 데이터의 샘플 인덱스 번호 확인\n",
        "x_test.index, y_test.index"
      ]
    },
    {
      "cell_type": "code",
      "execution_count": null,
      "metadata": {
        "colab": {
          "base_uri": "https://localhost:8080/",
          "height": 990
        },
        "id": "LvpUpp_AF0Ck",
        "outputId": "af027fb8-9bd2-44d8-c017-2528fdb09fd9"
      },
      "outputs": [
        {
          "data": {
            "text/html": [
              "\n",
              "  <div id=\"df-5e48fda9-ee4f-4019-a2c1-28a3932631b9\">\n",
              "    <div class=\"colab-df-container\">\n",
              "      <div>\n",
              "<style scoped>\n",
              "    .dataframe tbody tr th:only-of-type {\n",
              "        vertical-align: middle;\n",
              "    }\n",
              "\n",
              "    .dataframe tbody tr th {\n",
              "        vertical-align: top;\n",
              "    }\n",
              "\n",
              "    .dataframe thead th {\n",
              "        text-align: right;\n",
              "    }\n",
              "</style>\n",
              "<table border=\"1\" class=\"dataframe\">\n",
              "  <thead>\n",
              "    <tr style=\"text-align: right;\">\n",
              "      <th></th>\n",
              "      <th>sl</th>\n",
              "      <th>sw</th>\n",
              "      <th>pl</th>\n",
              "      <th>pw</th>\n",
              "      <th>label</th>\n",
              "      <th>y_pred_euclid_k4</th>\n",
              "    </tr>\n",
              "  </thead>\n",
              "  <tbody>\n",
              "    <tr>\n",
              "      <th>73</th>\n",
              "      <td>6.1</td>\n",
              "      <td>2.8</td>\n",
              "      <td>4.7</td>\n",
              "      <td>1.2</td>\n",
              "      <td>1</td>\n",
              "      <td>1</td>\n",
              "    </tr>\n",
              "    <tr>\n",
              "      <th>18</th>\n",
              "      <td>5.7</td>\n",
              "      <td>3.8</td>\n",
              "      <td>1.7</td>\n",
              "      <td>0.3</td>\n",
              "      <td>0</td>\n",
              "      <td>0</td>\n",
              "    </tr>\n",
              "    <tr>\n",
              "      <th>118</th>\n",
              "      <td>7.7</td>\n",
              "      <td>2.6</td>\n",
              "      <td>6.9</td>\n",
              "      <td>2.3</td>\n",
              "      <td>2</td>\n",
              "      <td>2</td>\n",
              "    </tr>\n",
              "    <tr>\n",
              "      <th>78</th>\n",
              "      <td>6.0</td>\n",
              "      <td>2.9</td>\n",
              "      <td>4.5</td>\n",
              "      <td>1.5</td>\n",
              "      <td>1</td>\n",
              "      <td>1</td>\n",
              "    </tr>\n",
              "    <tr>\n",
              "      <th>76</th>\n",
              "      <td>6.8</td>\n",
              "      <td>2.8</td>\n",
              "      <td>4.8</td>\n",
              "      <td>1.4</td>\n",
              "      <td>1</td>\n",
              "      <td>1</td>\n",
              "    </tr>\n",
              "    <tr>\n",
              "      <th>31</th>\n",
              "      <td>5.4</td>\n",
              "      <td>3.4</td>\n",
              "      <td>1.5</td>\n",
              "      <td>0.4</td>\n",
              "      <td>0</td>\n",
              "      <td>0</td>\n",
              "    </tr>\n",
              "    <tr>\n",
              "      <th>64</th>\n",
              "      <td>5.6</td>\n",
              "      <td>2.9</td>\n",
              "      <td>3.6</td>\n",
              "      <td>1.3</td>\n",
              "      <td>1</td>\n",
              "      <td>1</td>\n",
              "    </tr>\n",
              "    <tr>\n",
              "      <th>141</th>\n",
              "      <td>6.9</td>\n",
              "      <td>3.1</td>\n",
              "      <td>5.1</td>\n",
              "      <td>2.3</td>\n",
              "      <td>2</td>\n",
              "      <td>2</td>\n",
              "    </tr>\n",
              "    <tr>\n",
              "      <th>68</th>\n",
              "      <td>6.2</td>\n",
              "      <td>2.2</td>\n",
              "      <td>4.5</td>\n",
              "      <td>1.5</td>\n",
              "      <td>1</td>\n",
              "      <td>1</td>\n",
              "    </tr>\n",
              "    <tr>\n",
              "      <th>82</th>\n",
              "      <td>5.8</td>\n",
              "      <td>2.7</td>\n",
              "      <td>3.9</td>\n",
              "      <td>1.2</td>\n",
              "      <td>1</td>\n",
              "      <td>1</td>\n",
              "    </tr>\n",
              "    <tr>\n",
              "      <th>110</th>\n",
              "      <td>6.5</td>\n",
              "      <td>3.2</td>\n",
              "      <td>5.1</td>\n",
              "      <td>2.0</td>\n",
              "      <td>2</td>\n",
              "      <td>2</td>\n",
              "    </tr>\n",
              "    <tr>\n",
              "      <th>12</th>\n",
              "      <td>4.8</td>\n",
              "      <td>3.0</td>\n",
              "      <td>1.4</td>\n",
              "      <td>0.1</td>\n",
              "      <td>0</td>\n",
              "      <td>0</td>\n",
              "    </tr>\n",
              "    <tr>\n",
              "      <th>36</th>\n",
              "      <td>5.5</td>\n",
              "      <td>3.5</td>\n",
              "      <td>1.3</td>\n",
              "      <td>0.2</td>\n",
              "      <td>0</td>\n",
              "      <td>0</td>\n",
              "    </tr>\n",
              "    <tr>\n",
              "      <th>9</th>\n",
              "      <td>4.9</td>\n",
              "      <td>3.1</td>\n",
              "      <td>1.5</td>\n",
              "      <td>0.1</td>\n",
              "      <td>0</td>\n",
              "      <td>0</td>\n",
              "    </tr>\n",
              "    <tr>\n",
              "      <th>19</th>\n",
              "      <td>5.1</td>\n",
              "      <td>3.8</td>\n",
              "      <td>1.5</td>\n",
              "      <td>0.3</td>\n",
              "      <td>0</td>\n",
              "      <td>0</td>\n",
              "    </tr>\n",
              "    <tr>\n",
              "      <th>56</th>\n",
              "      <td>6.3</td>\n",
              "      <td>3.3</td>\n",
              "      <td>4.7</td>\n",
              "      <td>1.6</td>\n",
              "      <td>1</td>\n",
              "      <td>1</td>\n",
              "    </tr>\n",
              "    <tr>\n",
              "      <th>104</th>\n",
              "      <td>6.5</td>\n",
              "      <td>3.0</td>\n",
              "      <td>5.8</td>\n",
              "      <td>2.2</td>\n",
              "      <td>2</td>\n",
              "      <td>2</td>\n",
              "    </tr>\n",
              "    <tr>\n",
              "      <th>69</th>\n",
              "      <td>5.6</td>\n",
              "      <td>2.5</td>\n",
              "      <td>3.9</td>\n",
              "      <td>1.1</td>\n",
              "      <td>1</td>\n",
              "      <td>1</td>\n",
              "    </tr>\n",
              "    <tr>\n",
              "      <th>55</th>\n",
              "      <td>5.7</td>\n",
              "      <td>2.8</td>\n",
              "      <td>4.5</td>\n",
              "      <td>1.3</td>\n",
              "      <td>1</td>\n",
              "      <td>1</td>\n",
              "    </tr>\n",
              "    <tr>\n",
              "      <th>132</th>\n",
              "      <td>6.4</td>\n",
              "      <td>2.8</td>\n",
              "      <td>5.6</td>\n",
              "      <td>2.2</td>\n",
              "      <td>2</td>\n",
              "      <td>2</td>\n",
              "    </tr>\n",
              "    <tr>\n",
              "      <th>29</th>\n",
              "      <td>4.7</td>\n",
              "      <td>3.2</td>\n",
              "      <td>1.6</td>\n",
              "      <td>0.2</td>\n",
              "      <td>0</td>\n",
              "      <td>0</td>\n",
              "    </tr>\n",
              "    <tr>\n",
              "      <th>127</th>\n",
              "      <td>6.1</td>\n",
              "      <td>3.0</td>\n",
              "      <td>4.9</td>\n",
              "      <td>1.8</td>\n",
              "      <td>2</td>\n",
              "      <td>2</td>\n",
              "    </tr>\n",
              "    <tr>\n",
              "      <th>26</th>\n",
              "      <td>5.0</td>\n",
              "      <td>3.4</td>\n",
              "      <td>1.6</td>\n",
              "      <td>0.4</td>\n",
              "      <td>0</td>\n",
              "      <td>0</td>\n",
              "    </tr>\n",
              "    <tr>\n",
              "      <th>128</th>\n",
              "      <td>6.4</td>\n",
              "      <td>2.8</td>\n",
              "      <td>5.6</td>\n",
              "      <td>2.1</td>\n",
              "      <td>2</td>\n",
              "      <td>2</td>\n",
              "    </tr>\n",
              "    <tr>\n",
              "      <th>131</th>\n",
              "      <td>7.9</td>\n",
              "      <td>3.8</td>\n",
              "      <td>6.4</td>\n",
              "      <td>2.0</td>\n",
              "      <td>2</td>\n",
              "      <td>2</td>\n",
              "    </tr>\n",
              "    <tr>\n",
              "      <th>145</th>\n",
              "      <td>6.7</td>\n",
              "      <td>3.0</td>\n",
              "      <td>5.2</td>\n",
              "      <td>2.3</td>\n",
              "      <td>2</td>\n",
              "      <td>2</td>\n",
              "    </tr>\n",
              "    <tr>\n",
              "      <th>108</th>\n",
              "      <td>6.7</td>\n",
              "      <td>2.5</td>\n",
              "      <td>5.8</td>\n",
              "      <td>1.8</td>\n",
              "      <td>2</td>\n",
              "      <td>2</td>\n",
              "    </tr>\n",
              "    <tr>\n",
              "      <th>143</th>\n",
              "      <td>6.8</td>\n",
              "      <td>3.2</td>\n",
              "      <td>5.9</td>\n",
              "      <td>2.3</td>\n",
              "      <td>2</td>\n",
              "      <td>2</td>\n",
              "    </tr>\n",
              "    <tr>\n",
              "      <th>45</th>\n",
              "      <td>4.8</td>\n",
              "      <td>3.0</td>\n",
              "      <td>1.4</td>\n",
              "      <td>0.3</td>\n",
              "      <td>0</td>\n",
              "      <td>0</td>\n",
              "    </tr>\n",
              "    <tr>\n",
              "      <th>30</th>\n",
              "      <td>4.8</td>\n",
              "      <td>3.1</td>\n",
              "      <td>1.6</td>\n",
              "      <td>0.2</td>\n",
              "      <td>0</td>\n",
              "      <td>0</td>\n",
              "    </tr>\n",
              "  </tbody>\n",
              "</table>\n",
              "</div>\n",
              "      <button class=\"colab-df-convert\" onclick=\"convertToInteractive('df-5e48fda9-ee4f-4019-a2c1-28a3932631b9')\"\n",
              "              title=\"Convert this dataframe to an interactive table.\"\n",
              "              style=\"display:none;\">\n",
              "        \n",
              "  <svg xmlns=\"http://www.w3.org/2000/svg\" height=\"24px\"viewBox=\"0 0 24 24\"\n",
              "       width=\"24px\">\n",
              "    <path d=\"M0 0h24v24H0V0z\" fill=\"none\"/>\n",
              "    <path d=\"M18.56 5.44l.94 2.06.94-2.06 2.06-.94-2.06-.94-.94-2.06-.94 2.06-2.06.94zm-11 1L8.5 8.5l.94-2.06 2.06-.94-2.06-.94L8.5 2.5l-.94 2.06-2.06.94zm10 10l.94 2.06.94-2.06 2.06-.94-2.06-.94-.94-2.06-.94 2.06-2.06.94z\"/><path d=\"M17.41 7.96l-1.37-1.37c-.4-.4-.92-.59-1.43-.59-.52 0-1.04.2-1.43.59L10.3 9.45l-7.72 7.72c-.78.78-.78 2.05 0 2.83L4 21.41c.39.39.9.59 1.41.59.51 0 1.02-.2 1.41-.59l7.78-7.78 2.81-2.81c.8-.78.8-2.07 0-2.86zM5.41 20L4 18.59l7.72-7.72 1.47 1.35L5.41 20z\"/>\n",
              "  </svg>\n",
              "      </button>\n",
              "      \n",
              "  <style>\n",
              "    .colab-df-container {\n",
              "      display:flex;\n",
              "      flex-wrap:wrap;\n",
              "      gap: 12px;\n",
              "    }\n",
              "\n",
              "    .colab-df-convert {\n",
              "      background-color: #E8F0FE;\n",
              "      border: none;\n",
              "      border-radius: 50%;\n",
              "      cursor: pointer;\n",
              "      display: none;\n",
              "      fill: #1967D2;\n",
              "      height: 32px;\n",
              "      padding: 0 0 0 0;\n",
              "      width: 32px;\n",
              "    }\n",
              "\n",
              "    .colab-df-convert:hover {\n",
              "      background-color: #E2EBFA;\n",
              "      box-shadow: 0px 1px 2px rgba(60, 64, 67, 0.3), 0px 1px 3px 1px rgba(60, 64, 67, 0.15);\n",
              "      fill: #174EA6;\n",
              "    }\n",
              "\n",
              "    [theme=dark] .colab-df-convert {\n",
              "      background-color: #3B4455;\n",
              "      fill: #D2E3FC;\n",
              "    }\n",
              "\n",
              "    [theme=dark] .colab-df-convert:hover {\n",
              "      background-color: #434B5C;\n",
              "      box-shadow: 0px 1px 3px 1px rgba(0, 0, 0, 0.15);\n",
              "      filter: drop-shadow(0px 1px 2px rgba(0, 0, 0, 0.3));\n",
              "      fill: #FFFFFF;\n",
              "    }\n",
              "  </style>\n",
              "\n",
              "      <script>\n",
              "        const buttonEl =\n",
              "          document.querySelector('#df-5e48fda9-ee4f-4019-a2c1-28a3932631b9 button.colab-df-convert');\n",
              "        buttonEl.style.display =\n",
              "          google.colab.kernel.accessAllowed ? 'block' : 'none';\n",
              "\n",
              "        async function convertToInteractive(key) {\n",
              "          const element = document.querySelector('#df-5e48fda9-ee4f-4019-a2c1-28a3932631b9');\n",
              "          const dataTable =\n",
              "            await google.colab.kernel.invokeFunction('convertToInteractive',\n",
              "                                                     [key], {});\n",
              "          if (!dataTable) return;\n",
              "\n",
              "          const docLinkHtml = 'Like what you see? Visit the ' +\n",
              "            '<a target=\"_blank\" href=https://colab.research.google.com/notebooks/data_table.ipynb>data table notebook</a>'\n",
              "            + ' to learn more about interactive tables.';\n",
              "          element.innerHTML = '';\n",
              "          dataTable['output_type'] = 'display_data';\n",
              "          await google.colab.output.renderOutput(dataTable, element);\n",
              "          const docLink = document.createElement('div');\n",
              "          docLink.innerHTML = docLinkHtml;\n",
              "          element.appendChild(docLink);\n",
              "        }\n",
              "      </script>\n",
              "    </div>\n",
              "  </div>\n",
              "  "
            ],
            "text/plain": [
              "      sl   sw   pl   pw  label  y_pred_euclid_k4\n",
              "73   6.1  2.8  4.7  1.2      1                 1\n",
              "18   5.7  3.8  1.7  0.3      0                 0\n",
              "118  7.7  2.6  6.9  2.3      2                 2\n",
              "78   6.0  2.9  4.5  1.5      1                 1\n",
              "76   6.8  2.8  4.8  1.4      1                 1\n",
              "31   5.4  3.4  1.5  0.4      0                 0\n",
              "64   5.6  2.9  3.6  1.3      1                 1\n",
              "141  6.9  3.1  5.1  2.3      2                 2\n",
              "68   6.2  2.2  4.5  1.5      1                 1\n",
              "82   5.8  2.7  3.9  1.2      1                 1\n",
              "110  6.5  3.2  5.1  2.0      2                 2\n",
              "12   4.8  3.0  1.4  0.1      0                 0\n",
              "36   5.5  3.5  1.3  0.2      0                 0\n",
              "9    4.9  3.1  1.5  0.1      0                 0\n",
              "19   5.1  3.8  1.5  0.3      0                 0\n",
              "56   6.3  3.3  4.7  1.6      1                 1\n",
              "104  6.5  3.0  5.8  2.2      2                 2\n",
              "69   5.6  2.5  3.9  1.1      1                 1\n",
              "55   5.7  2.8  4.5  1.3      1                 1\n",
              "132  6.4  2.8  5.6  2.2      2                 2\n",
              "29   4.7  3.2  1.6  0.2      0                 0\n",
              "127  6.1  3.0  4.9  1.8      2                 2\n",
              "26   5.0  3.4  1.6  0.4      0                 0\n",
              "128  6.4  2.8  5.6  2.1      2                 2\n",
              "131  7.9  3.8  6.4  2.0      2                 2\n",
              "145  6.7  3.0  5.2  2.3      2                 2\n",
              "108  6.7  2.5  5.8  1.8      2                 2\n",
              "143  6.8  3.2  5.9  2.3      2                 2\n",
              "45   4.8  3.0  1.4  0.3      0                 0\n",
              "30   4.8  3.1  1.6  0.2      0                 0"
            ]
          },
          "execution_count": 19,
          "metadata": {},
          "output_type": "execute_result"
        }
      ],
      "source": [
        "# 실제값과 예측값을 비교하기 위한 데이터프레임 \n",
        "df_test = pd.concat([x_test, y_test], axis=1)\n",
        "df_test['y_pred_euclid_k4'] = predictions\n",
        "df_test"
      ]
    },
    {
      "cell_type": "code",
      "execution_count": null,
      "metadata": {
        "colab": {
          "base_uri": "https://localhost:8080/"
        },
        "id": "fT2eSh7YKSOs",
        "outputId": "2015f9ab-bc15-43d7-b1d8-d8c3cee1e578"
      },
      "outputs": [
        {
          "data": {
            "text/plain": [
              "1.0"
            ]
          },
          "execution_count": 16,
          "metadata": {},
          "output_type": "execute_result"
        }
      ],
      "source": [
        "# 정확도: 일치하는 값의 갯수 / 전체 개수\n",
        "accuracy = ((predictions == y_test.values).sum()) / len(predictions)\n",
        "accuracy"
      ]
    },
    {
      "cell_type": "code",
      "execution_count": null,
      "metadata": {
        "id": "yMwH_janKTPh"
      },
      "outputs": [],
      "source": []
    },
    {
      "cell_type": "markdown",
      "metadata": {
        "id": "iC1YlMUsfSGN"
      },
      "source": [
        "## 추가 검토 제안\n",
        "- 1) 거리 기반 분류를 하는 경우 feature의 단위에 따라 모델 예측 성능이 달라질 수 있으므로 데이터 준비 단계에서 ***feature scaling을 수행***한 뒤 KNNclassifier 모델 구현\n",
        "- 2) 4차원 특성 데이터를 평면에 시각화하는 것이 어려우므로 2차원으로 낮추는 ***PCA변환 사전 전처리*** 후 KNNclassifier 모델 구현 \n",
        "\n"
      ]
    },
    {
      "cell_type": "code",
      "execution_count": null,
      "metadata": {
        "id": "aMA87WQEKTSK"
      },
      "outputs": [],
      "source": []
    },
    {
      "cell_type": "code",
      "execution_count": null,
      "metadata": {
        "id": "_1RxtekMKTUd"
      },
      "outputs": [],
      "source": []
    },
    {
      "cell_type": "code",
      "execution_count": null,
      "metadata": {
        "id": "8K4_mElkKTWn"
      },
      "outputs": [],
      "source": []
    },
    {
      "cell_type": "code",
      "execution_count": null,
      "metadata": {
        "id": "7MTi7-ShKTZE"
      },
      "outputs": [],
      "source": []
    },
    {
      "cell_type": "code",
      "execution_count": null,
      "metadata": {
        "id": "-ZufCx-uKTb7"
      },
      "outputs": [],
      "source": []
    },
    {
      "cell_type": "code",
      "execution_count": null,
      "metadata": {
        "id": "R2te1Ni2wd6u"
      },
      "outputs": [],
      "source": []
    },
    {
      "cell_type": "code",
      "execution_count": null,
      "metadata": {
        "id": "YmffBzlVfw8p"
      },
      "outputs": [],
      "source": []
    }
  ],
  "metadata": {
    "colab": {
      "provenance": [],
      "include_colab_link": true
    },
    "kernelspec": {
      "display_name": "Python 3",
      "name": "python3"
    },
    "language_info": {
      "name": "python"
    }
  },
  "nbformat": 4,
  "nbformat_minor": 0
}