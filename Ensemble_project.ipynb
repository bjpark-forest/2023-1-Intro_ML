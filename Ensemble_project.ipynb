{
  "cells": [
    {
      "cell_type": "markdown",
      "metadata": {
        "id": "view-in-github",
        "colab_type": "text"
      },
      "source": [
        "<a href=\"https://colab.research.google.com/github/bjpark-forest/2023-1-Intro_ML/blob/main/Ensemble_project.ipynb\" target=\"_parent\"><img src=\"https://colab.research.google.com/assets/colab-badge.svg\" alt=\"Open In Colab\"/></a>"
      ]
    },
    {
      "cell_type": "markdown",
      "metadata": {
        "id": "Nlj3sChJasIp"
      },
      "source": [
        "# Ensembling"
      ]
    },
    {
      "cell_type": "code",
      "execution_count": null,
      "metadata": {
        "id": "4UjdE1T-asIv"
      },
      "outputs": [],
      "source": [
        "from sklearn import datasets\n",
        "\n",
        "from sklearn.model_selection import train_test_split\n",
        "from sklearn.metrics import accuracy_score\n",
        "\n",
        "# three base models\n",
        "from sklearn import tree\n",
        "from sklearn.neighbors import KNeighborsClassifier\n",
        "from sklearn.svm import SVC\n",
        "\n",
        "from sklearn.ensemble import VotingClassifier\n"
      ]
    },
    {
      "cell_type": "code",
      "source": [
        "import requests\n",
        "import io\n",
        "import pandas as pd\n",
        "\n",
        "\n",
        "# 임웅교수님 공유 링크에서 파일 ID 추출\n",
        "file_url = \"https://drive.google.com/file/d/1xKvl88xKXxMOEOoUWkTpXRoaElhN7RYo/view?usp=sharing\"\n",
        "file_id = file_url.split(\"/\")[-2]\n",
        "\n",
        "# 파일 다운로드\n",
        "url = f\"https://drive.google.com/uc?id={file_id}&export=download\"\n",
        "response = requests.get(url)\n",
        "content = response.content\n",
        "\n",
        "# CSV 파일 읽고 정보 확인\n",
        "bcancer_df = pd.read_csv(io.StringIO(content.decode('utf-8')))\n",
        "bcancer_df"
      ],
      "metadata": {
        "id": "A2tvRVyPQY6Z"
      },
      "execution_count": null,
      "outputs": []
    },
    {
      "cell_type": "code",
      "source": [
        "bcancer_df.head()"
      ],
      "metadata": {
        "id": "x-0vZqBbnmVG"
      },
      "execution_count": null,
      "outputs": []
    },
    {
      "cell_type": "code",
      "source": [
        "from sklearn.preprocessing import LabelEncoder\n",
        "LE = LabelEncoder()\n",
        "target = LE.fit_transform(bcancer_df['diagnosis'])\n",
        "\n",
        "bcancer_df.drop('diagnosis', axis=1, inplace=True)\n",
        "bcancer_df['diagnosis'] = target"
      ],
      "metadata": {
        "id": "5NJNApCpYev8"
      },
      "execution_count": null,
      "outputs": []
    },
    {
      "cell_type": "code",
      "source": [
        "\n",
        "features=bcancer_df.drop(['diagnosis','id','Unnamed: 32'],axis=1)\n"
      ],
      "metadata": {
        "id": "dbJ62EXjXzXL"
      },
      "execution_count": null,
      "outputs": []
    },
    {
      "cell_type": "code",
      "execution_count": null,
      "metadata": {
        "id": "2TxliqC-asIz"
      },
      "outputs": [],
      "source": [
        "import numpy as np\n",
        "\n",
        "labels = bcancer_df['diagnosis'].to_numpy()\n",
        "\n",
        "X_train,X_test,y_train,y_test=train_test_split(features,labels,test_size=0.2)"
      ]
    },
    {
      "cell_type": "markdown",
      "metadata": {
        "id": "coB9EplSasIz"
      },
      "source": [
        "# Run individual base models"
      ]
    },
    {
      "cell_type": "code",
      "execution_count": null,
      "metadata": {
        "id": "v9YGZ5L6asI0"
      },
      "outputs": [],
      "source": [
        "dtree = tree.DecisionTreeClassifier(\n",
        "    criterion=\"gini\", max_depth=8, random_state=35)\n",
        "\n",
        "dtree = dtree.fit(X_train, y_train)\n",
        "dtree_predicted = dtree.predict(X_test)\n",
        "\n",
        "knn = KNeighborsClassifier(n_neighbors=15).fit(X_train, y_train)\n",
        "knn_predicted = knn.predict(X_test)\n",
        "\n",
        "svm = SVC(kernel='rbf',C=.1, gamma=0.003,probability=True, random_state=35).fit(X_train, y_train)\n",
        "svm_predicted = svm.predict(X_test)\n",
        "svm_predicted"
      ]
    },
    {
      "cell_type": "code",
      "execution_count": null,
      "metadata": {
        "id": "trkvAzSeasI1"
      },
      "outputs": [],
      "source": [
        "print(\"[accuarcy]\")\n",
        "print(\"d-tree: \",accuracy_score(y_test, dtree_predicted))\n",
        "print(\"knn   : \",accuracy_score(y_test, knn_predicted))\n",
        "print(\"svm   : \",accuracy_score(y_test, svm_predicted))"
      ]
    },
    {
      "cell_type": "markdown",
      "source": [
        "# Get predict_proba data via SVM"
      ],
      "metadata": {
        "id": "VK2ztlwD4gFM"
      }
    },
    {
      "cell_type": "code",
      "source": [
        "svm_probability=svm.predict_proba(X_test)\n",
        "print(svm_probability.round(2))"
      ],
      "metadata": {
        "id": "tWcPYEK4eYYb"
      },
      "execution_count": null,
      "outputs": []
    },
    {
      "cell_type": "markdown",
      "metadata": {
        "id": "hN5PM1xQasI5"
      },
      "source": [
        "# Hard voting"
      ]
    },
    {
      "cell_type": "code",
      "execution_count": null,
      "metadata": {
        "id": "Jg6-1CpfasI5"
      },
      "outputs": [],
      "source": [
        "voting_clf = VotingClassifier(estimators=[\n",
        "    ('decision_tree', dtree), ('knn', knn), ('svm', svm)], \n",
        "    weights=[1,1,1], voting='hard').fit(X_train, y_train)\n",
        "hard_voting_predicted = voting_clf.predict(X_test)\n",
        "accuracy_score(y_test, hard_voting_predicted)"
      ]
    },
    {
      "cell_type": "markdown",
      "metadata": {
        "id": "2lO5g5FeasI6"
      },
      "source": [
        "# Soft voting"
      ]
    },
    {
      "cell_type": "code",
      "execution_count": null,
      "metadata": {
        "id": "XEkslRg0asI6"
      },
      "outputs": [],
      "source": [
        "voting_clf = VotingClassifier(estimators=[\n",
        "    ('decision_tree', dtree), ('knn', knn), ('svm', svm)], \n",
        "    weights=[1,1,1], voting='soft').fit(X_train, y_train)\n",
        "soft_voting_predicted = voting_clf.predict(X_test)\n",
        "accuracy_score(y_test, soft_voting_predicted)"
      ]
    },
    {
      "cell_type": "markdown",
      "source": [
        "# More close look into voting data"
      ],
      "metadata": {
        "id": "Y3-eU76S4Wiu"
      }
    },
    {
      "cell_type": "code",
      "source": [
        "y_test"
      ],
      "metadata": {
        "id": "xlBCTrhuzZcm"
      },
      "execution_count": null,
      "outputs": []
    },
    {
      "cell_type": "code",
      "source": [
        "hard_voting_predicted "
      ],
      "metadata": {
        "id": "o3wix7w7pbOU"
      },
      "execution_count": null,
      "outputs": []
    },
    {
      "cell_type": "code",
      "source": [
        "soft_voting_predicted"
      ],
      "metadata": {
        "id": "I833T-01b9u3"
      },
      "execution_count": null,
      "outputs": []
    },
    {
      "cell_type": "markdown",
      "metadata": {
        "id": "MO1HCy2LasI7"
      },
      "source": [
        "# Visualize accuracy scores for individual models and ensembling"
      ]
    },
    {
      "cell_type": "code",
      "execution_count": null,
      "metadata": {
        "id": "-gXmcLaaasI7"
      },
      "outputs": [],
      "source": [
        "import matplotlib.pyplot as plt\n",
        "%matplotlib inline\n",
        "\n",
        "x = np.arange(5)\n",
        "plt.bar(x, height= [accuracy_score(y_test, dtree_predicted),\n",
        "                    accuracy_score(y_test, knn_predicted),\n",
        "                    accuracy_score(y_test, svm_predicted),\n",
        "                    accuracy_score(y_test, hard_voting_predicted),\n",
        "                    accuracy_score(y_test, soft_voting_predicted)])\n",
        "plt.xticks(x, ['decision tree','knn','svm','hard voting','soft voting']);"
      ]
    }
  ],
  "metadata": {
    "kernelspec": {
      "display_name": "Python 3",
      "language": "python",
      "name": "python3"
    },
    "language_info": {
      "codemirror_mode": {
        "name": "ipython",
        "version": 3
      },
      "file_extension": ".py",
      "mimetype": "text/x-python",
      "name": "python",
      "nbconvert_exporter": "python",
      "pygments_lexer": "ipython3",
      "version": "3.6.4"
    },
    "colab": {
      "provenance": [],
      "include_colab_link": true
    }
  },
  "nbformat": 4,
  "nbformat_minor": 0
}